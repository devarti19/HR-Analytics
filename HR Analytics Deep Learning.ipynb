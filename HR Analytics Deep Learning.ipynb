{
 "cells": [
  {
   "cell_type": "code",
   "execution_count": 1,
   "metadata": {},
   "outputs": [
    {
     "name": "stderr",
     "output_type": "stream",
     "text": [
      "C:\\Users\\91758\\AppData\\Local\\Continuum\\anaconda3\\lib\\site-packages\\dask\\config.py:168: YAMLLoadWarning: calling yaml.load() without Loader=... is deprecated, as the default Loader is unsafe. Please read https://msg.pyyaml.org/load for full details.\n",
      "  data = yaml.load(f.read()) or {}\n",
      "C:\\Users\\91758\\AppData\\Local\\Continuum\\anaconda3\\lib\\site-packages\\distributed\\config.py:20: YAMLLoadWarning: calling yaml.load() without Loader=... is deprecated, as the default Loader is unsafe. Please read https://msg.pyyaml.org/load for full details.\n",
      "  defaults = yaml.load(f)\n",
      "Using TensorFlow backend.\n"
     ]
    }
   ],
   "source": [
    "import pandas as pd\n",
    "import numpy as np\n",
    "import matplotlib.pyplot as plt\n",
    "from sklearn.linear_model import LogisticRegression\n",
    "from sklearn.ensemble import RandomForestClassifier\n",
    "from sklearn.model_selection import train_test_split\n",
    "from sklearn.preprocessing import LabelEncoder\n",
    "from sklearn.metrics import f1_score,confusion_matrix, accuracy_score\n",
    "from xgboost import XGBClassifier\n",
    "from keras.models import Sequential\n",
    "from keras.layers import Dense"
   ]
  },
  {
   "cell_type": "code",
   "execution_count": 2,
   "metadata": {},
   "outputs": [],
   "source": [
    "df= pd.read_csv(\"C:/Users/91758/Downloads/train_LZdllcl.csv\")"
   ]
  },
  {
   "cell_type": "code",
   "execution_count": 3,
   "metadata": {},
   "outputs": [
    {
     "data": {
      "text/html": [
       "<div>\n",
       "<style scoped>\n",
       "    .dataframe tbody tr th:only-of-type {\n",
       "        vertical-align: middle;\n",
       "    }\n",
       "\n",
       "    .dataframe tbody tr th {\n",
       "        vertical-align: top;\n",
       "    }\n",
       "\n",
       "    .dataframe thead th {\n",
       "        text-align: right;\n",
       "    }\n",
       "</style>\n",
       "<table border=\"1\" class=\"dataframe\">\n",
       "  <thead>\n",
       "    <tr style=\"text-align: right;\">\n",
       "      <th></th>\n",
       "      <th>employee_id</th>\n",
       "      <th>department</th>\n",
       "      <th>region</th>\n",
       "      <th>education</th>\n",
       "      <th>gender</th>\n",
       "      <th>recruitment_channel</th>\n",
       "      <th>no_of_trainings</th>\n",
       "      <th>age</th>\n",
       "      <th>previous_year_rating</th>\n",
       "      <th>length_of_service</th>\n",
       "      <th>KPIs_met &gt;80%</th>\n",
       "      <th>awards_won?</th>\n",
       "      <th>avg_training_score</th>\n",
       "      <th>is_promoted</th>\n",
       "    </tr>\n",
       "  </thead>\n",
       "  <tbody>\n",
       "    <tr>\n",
       "      <th>0</th>\n",
       "      <td>65438</td>\n",
       "      <td>Sales &amp; Marketing</td>\n",
       "      <td>region_7</td>\n",
       "      <td>Master's &amp; above</td>\n",
       "      <td>f</td>\n",
       "      <td>sourcing</td>\n",
       "      <td>1</td>\n",
       "      <td>35</td>\n",
       "      <td>5.0</td>\n",
       "      <td>8</td>\n",
       "      <td>1</td>\n",
       "      <td>0</td>\n",
       "      <td>49</td>\n",
       "      <td>0</td>\n",
       "    </tr>\n",
       "    <tr>\n",
       "      <th>1</th>\n",
       "      <td>65141</td>\n",
       "      <td>Operations</td>\n",
       "      <td>region_22</td>\n",
       "      <td>Bachelor's</td>\n",
       "      <td>m</td>\n",
       "      <td>other</td>\n",
       "      <td>1</td>\n",
       "      <td>30</td>\n",
       "      <td>5.0</td>\n",
       "      <td>4</td>\n",
       "      <td>0</td>\n",
       "      <td>0</td>\n",
       "      <td>60</td>\n",
       "      <td>0</td>\n",
       "    </tr>\n",
       "    <tr>\n",
       "      <th>2</th>\n",
       "      <td>7513</td>\n",
       "      <td>Sales &amp; Marketing</td>\n",
       "      <td>region_19</td>\n",
       "      <td>Bachelor's</td>\n",
       "      <td>m</td>\n",
       "      <td>sourcing</td>\n",
       "      <td>1</td>\n",
       "      <td>34</td>\n",
       "      <td>3.0</td>\n",
       "      <td>7</td>\n",
       "      <td>0</td>\n",
       "      <td>0</td>\n",
       "      <td>50</td>\n",
       "      <td>0</td>\n",
       "    </tr>\n",
       "    <tr>\n",
       "      <th>3</th>\n",
       "      <td>2542</td>\n",
       "      <td>Sales &amp; Marketing</td>\n",
       "      <td>region_23</td>\n",
       "      <td>Bachelor's</td>\n",
       "      <td>m</td>\n",
       "      <td>other</td>\n",
       "      <td>2</td>\n",
       "      <td>39</td>\n",
       "      <td>1.0</td>\n",
       "      <td>10</td>\n",
       "      <td>0</td>\n",
       "      <td>0</td>\n",
       "      <td>50</td>\n",
       "      <td>0</td>\n",
       "    </tr>\n",
       "    <tr>\n",
       "      <th>4</th>\n",
       "      <td>48945</td>\n",
       "      <td>Technology</td>\n",
       "      <td>region_26</td>\n",
       "      <td>Bachelor's</td>\n",
       "      <td>m</td>\n",
       "      <td>other</td>\n",
       "      <td>1</td>\n",
       "      <td>45</td>\n",
       "      <td>3.0</td>\n",
       "      <td>2</td>\n",
       "      <td>0</td>\n",
       "      <td>0</td>\n",
       "      <td>73</td>\n",
       "      <td>0</td>\n",
       "    </tr>\n",
       "  </tbody>\n",
       "</table>\n",
       "</div>"
      ],
      "text/plain": [
       "   employee_id         department     region         education gender  \\\n",
       "0        65438  Sales & Marketing   region_7  Master's & above      f   \n",
       "1        65141         Operations  region_22        Bachelor's      m   \n",
       "2         7513  Sales & Marketing  region_19        Bachelor's      m   \n",
       "3         2542  Sales & Marketing  region_23        Bachelor's      m   \n",
       "4        48945         Technology  region_26        Bachelor's      m   \n",
       "\n",
       "  recruitment_channel  no_of_trainings  age  previous_year_rating  \\\n",
       "0            sourcing                1   35                   5.0   \n",
       "1               other                1   30                   5.0   \n",
       "2            sourcing                1   34                   3.0   \n",
       "3               other                2   39                   1.0   \n",
       "4               other                1   45                   3.0   \n",
       "\n",
       "   length_of_service  KPIs_met >80%  awards_won?  avg_training_score  \\\n",
       "0                  8              1            0                  49   \n",
       "1                  4              0            0                  60   \n",
       "2                  7              0            0                  50   \n",
       "3                 10              0            0                  50   \n",
       "4                  2              0            0                  73   \n",
       "\n",
       "   is_promoted  \n",
       "0            0  \n",
       "1            0  \n",
       "2            0  \n",
       "3            0  \n",
       "4            0  "
      ]
     },
     "execution_count": 3,
     "metadata": {},
     "output_type": "execute_result"
    }
   ],
   "source": [
    "df.head()"
   ]
  },
  {
   "cell_type": "code",
   "execution_count": 4,
   "metadata": {},
   "outputs": [
    {
     "data": {
      "text/plain": [
       "employee_id                0\n",
       "department                 0\n",
       "region                     0\n",
       "education               2409\n",
       "gender                     0\n",
       "recruitment_channel        0\n",
       "no_of_trainings            0\n",
       "age                        0\n",
       "previous_year_rating    4124\n",
       "length_of_service          0\n",
       "KPIs_met >80%              0\n",
       "awards_won?                0\n",
       "avg_training_score         0\n",
       "is_promoted                0\n",
       "dtype: int64"
      ]
     },
     "execution_count": 4,
     "metadata": {},
     "output_type": "execute_result"
    }
   ],
   "source": [
    "df.isnull().sum()"
   ]
  },
  {
   "cell_type": "code",
   "execution_count": 5,
   "metadata": {},
   "outputs": [
    {
     "name": "stdout",
     "output_type": "stream",
     "text": [
      "<class 'pandas.core.frame.DataFrame'>\n",
      "RangeIndex: 54808 entries, 0 to 54807\n",
      "Data columns (total 14 columns):\n",
      "employee_id             54808 non-null int64\n",
      "department              54808 non-null object\n",
      "region                  54808 non-null object\n",
      "education               52399 non-null object\n",
      "gender                  54808 non-null object\n",
      "recruitment_channel     54808 non-null object\n",
      "no_of_trainings         54808 non-null int64\n",
      "age                     54808 non-null int64\n",
      "previous_year_rating    50684 non-null float64\n",
      "length_of_service       54808 non-null int64\n",
      "KPIs_met >80%           54808 non-null int64\n",
      "awards_won?             54808 non-null int64\n",
      "avg_training_score      54808 non-null int64\n",
      "is_promoted             54808 non-null int64\n",
      "dtypes: float64(1), int64(8), object(5)\n",
      "memory usage: 5.9+ MB\n"
     ]
    }
   ],
   "source": [
    "df.info()"
   ]
  },
  {
   "cell_type": "code",
   "execution_count": 6,
   "metadata": {},
   "outputs": [
    {
     "data": {
      "text/plain": [
       "Bachelor's          36669\n",
       "Master's & above    14925\n",
       "Below Secondary       805\n",
       "Name: education, dtype: int64"
      ]
     },
     "execution_count": 6,
     "metadata": {},
     "output_type": "execute_result"
    }
   ],
   "source": [
    "df['education'].value_counts()"
   ]
  },
  {
   "cell_type": "code",
   "execution_count": 7,
   "metadata": {},
   "outputs": [
    {
     "data": {
      "text/plain": [
       "3.0    18618\n",
       "5.0    11741\n",
       "4.0     9877\n",
       "1.0     6223\n",
       "2.0     4225\n",
       "0.0     4124\n",
       "Name: previous_year_rating, dtype: int64"
      ]
     },
     "execution_count": 7,
     "metadata": {},
     "output_type": "execute_result"
    }
   ],
   "source": [
    "df['previous_year_rating'].fillna(0,inplace=True)\n",
    "df['previous_year_rating'].value_counts()"
   ]
  },
  {
   "cell_type": "code",
   "execution_count": 8,
   "metadata": {},
   "outputs": [],
   "source": [
    "df['education'].fillna(\"NAN\",inplace=True)"
   ]
  },
  {
   "cell_type": "code",
   "execution_count": 9,
   "metadata": {},
   "outputs": [
    {
     "data": {
      "text/plain": [
       "Bachelor's          36669\n",
       "Master's & above    14925\n",
       "NAN                  2409\n",
       "Below Secondary       805\n",
       "Name: education, dtype: int64"
      ]
     },
     "execution_count": 9,
     "metadata": {},
     "output_type": "execute_result"
    }
   ],
   "source": [
    "df['education'].value_counts()"
   ]
  },
  {
   "cell_type": "code",
   "execution_count": 10,
   "metadata": {},
   "outputs": [],
   "source": [
    "le= LabelEncoder()"
   ]
  },
  {
   "cell_type": "code",
   "execution_count": 11,
   "metadata": {},
   "outputs": [],
   "source": [
    "def lencode(l, df):\n",
    "    for i in l:\n",
    "        df[i]= le.fit_transform(df[i])"
   ]
  },
  {
   "cell_type": "code",
   "execution_count": 12,
   "metadata": {},
   "outputs": [],
   "source": [
    "l=['department','region','education','gender','recruitment_channel']"
   ]
  },
  {
   "cell_type": "code",
   "execution_count": 13,
   "metadata": {},
   "outputs": [],
   "source": [
    "lencode(l,df)"
   ]
  },
  {
   "cell_type": "code",
   "execution_count": 14,
   "metadata": {},
   "outputs": [
    {
     "data": {
      "text/html": [
       "<div>\n",
       "<style scoped>\n",
       "    .dataframe tbody tr th:only-of-type {\n",
       "        vertical-align: middle;\n",
       "    }\n",
       "\n",
       "    .dataframe tbody tr th {\n",
       "        vertical-align: top;\n",
       "    }\n",
       "\n",
       "    .dataframe thead th {\n",
       "        text-align: right;\n",
       "    }\n",
       "</style>\n",
       "<table border=\"1\" class=\"dataframe\">\n",
       "  <thead>\n",
       "    <tr style=\"text-align: right;\">\n",
       "      <th></th>\n",
       "      <th>employee_id</th>\n",
       "      <th>department</th>\n",
       "      <th>region</th>\n",
       "      <th>education</th>\n",
       "      <th>gender</th>\n",
       "      <th>recruitment_channel</th>\n",
       "      <th>no_of_trainings</th>\n",
       "      <th>age</th>\n",
       "      <th>previous_year_rating</th>\n",
       "      <th>length_of_service</th>\n",
       "      <th>KPIs_met &gt;80%</th>\n",
       "      <th>awards_won?</th>\n",
       "      <th>avg_training_score</th>\n",
       "      <th>is_promoted</th>\n",
       "    </tr>\n",
       "  </thead>\n",
       "  <tbody>\n",
       "    <tr>\n",
       "      <th>0</th>\n",
       "      <td>65438</td>\n",
       "      <td>7</td>\n",
       "      <td>31</td>\n",
       "      <td>2</td>\n",
       "      <td>0</td>\n",
       "      <td>2</td>\n",
       "      <td>1</td>\n",
       "      <td>35</td>\n",
       "      <td>5.0</td>\n",
       "      <td>8</td>\n",
       "      <td>1</td>\n",
       "      <td>0</td>\n",
       "      <td>49</td>\n",
       "      <td>0</td>\n",
       "    </tr>\n",
       "    <tr>\n",
       "      <th>1</th>\n",
       "      <td>65141</td>\n",
       "      <td>4</td>\n",
       "      <td>14</td>\n",
       "      <td>0</td>\n",
       "      <td>1</td>\n",
       "      <td>0</td>\n",
       "      <td>1</td>\n",
       "      <td>30</td>\n",
       "      <td>5.0</td>\n",
       "      <td>4</td>\n",
       "      <td>0</td>\n",
       "      <td>0</td>\n",
       "      <td>60</td>\n",
       "      <td>0</td>\n",
       "    </tr>\n",
       "    <tr>\n",
       "      <th>2</th>\n",
       "      <td>7513</td>\n",
       "      <td>7</td>\n",
       "      <td>10</td>\n",
       "      <td>0</td>\n",
       "      <td>1</td>\n",
       "      <td>2</td>\n",
       "      <td>1</td>\n",
       "      <td>34</td>\n",
       "      <td>3.0</td>\n",
       "      <td>7</td>\n",
       "      <td>0</td>\n",
       "      <td>0</td>\n",
       "      <td>50</td>\n",
       "      <td>0</td>\n",
       "    </tr>\n",
       "    <tr>\n",
       "      <th>3</th>\n",
       "      <td>2542</td>\n",
       "      <td>7</td>\n",
       "      <td>15</td>\n",
       "      <td>0</td>\n",
       "      <td>1</td>\n",
       "      <td>0</td>\n",
       "      <td>2</td>\n",
       "      <td>39</td>\n",
       "      <td>1.0</td>\n",
       "      <td>10</td>\n",
       "      <td>0</td>\n",
       "      <td>0</td>\n",
       "      <td>50</td>\n",
       "      <td>0</td>\n",
       "    </tr>\n",
       "    <tr>\n",
       "      <th>4</th>\n",
       "      <td>48945</td>\n",
       "      <td>8</td>\n",
       "      <td>18</td>\n",
       "      <td>0</td>\n",
       "      <td>1</td>\n",
       "      <td>0</td>\n",
       "      <td>1</td>\n",
       "      <td>45</td>\n",
       "      <td>3.0</td>\n",
       "      <td>2</td>\n",
       "      <td>0</td>\n",
       "      <td>0</td>\n",
       "      <td>73</td>\n",
       "      <td>0</td>\n",
       "    </tr>\n",
       "  </tbody>\n",
       "</table>\n",
       "</div>"
      ],
      "text/plain": [
       "   employee_id  department  region  education  gender  recruitment_channel  \\\n",
       "0        65438           7      31          2       0                    2   \n",
       "1        65141           4      14          0       1                    0   \n",
       "2         7513           7      10          0       1                    2   \n",
       "3         2542           7      15          0       1                    0   \n",
       "4        48945           8      18          0       1                    0   \n",
       "\n",
       "   no_of_trainings  age  previous_year_rating  length_of_service  \\\n",
       "0                1   35                   5.0                  8   \n",
       "1                1   30                   5.0                  4   \n",
       "2                1   34                   3.0                  7   \n",
       "3                2   39                   1.0                 10   \n",
       "4                1   45                   3.0                  2   \n",
       "\n",
       "   KPIs_met >80%  awards_won?  avg_training_score  is_promoted  \n",
       "0              1            0                  49            0  \n",
       "1              0            0                  60            0  \n",
       "2              0            0                  50            0  \n",
       "3              0            0                  50            0  \n",
       "4              0            0                  73            0  "
      ]
     },
     "execution_count": 14,
     "metadata": {},
     "output_type": "execute_result"
    }
   ],
   "source": [
    "df.head()"
   ]
  },
  {
   "cell_type": "code",
   "execution_count": 15,
   "metadata": {},
   "outputs": [
    {
     "data": {
      "text/plain": [
       "1    38496\n",
       "0    16312\n",
       "Name: gender, dtype: int64"
      ]
     },
     "execution_count": 15,
     "metadata": {},
     "output_type": "execute_result"
    }
   ],
   "source": [
    "df.gender.value_counts()"
   ]
  },
  {
   "cell_type": "code",
   "execution_count": 16,
   "metadata": {},
   "outputs": [],
   "source": [
    "x= df.drop(['employee_id','is_promoted'], axis=1)"
   ]
  },
  {
   "cell_type": "code",
   "execution_count": 17,
   "metadata": {},
   "outputs": [],
   "source": [
    "y= df['is_promoted']"
   ]
  },
  {
   "cell_type": "code",
   "execution_count": 18,
   "metadata": {},
   "outputs": [],
   "source": [
    "xtrain, xtest, ytrain, ytest= train_test_split(x,y, test_size=0.2, random_state=10)"
   ]
  },
  {
   "cell_type": "code",
   "execution_count": 19,
   "metadata": {},
   "outputs": [
    {
     "data": {
      "text/plain": [
       "(43846, 12)"
      ]
     },
     "execution_count": 19,
     "metadata": {},
     "output_type": "execute_result"
    }
   ],
   "source": [
    "xtrain.shape"
   ]
  },
  {
   "cell_type": "markdown",
   "metadata": {},
   "source": [
    "#### Random Forest Classifier"
   ]
  },
  {
   "cell_type": "code",
   "execution_count": 20,
   "metadata": {},
   "outputs": [
    {
     "name": "stdout",
     "output_type": "stream",
     "text": [
      "0.9257434774676154\n",
      "0.26401446654611205\n"
     ]
    }
   ],
   "source": [
    "rf= RandomForestClassifier(n_estimators=50,n_jobs=-1, random_state=42, max_depth=10,max_features='auto',min_samples_leaf=2, min_samples_split=5)\n",
    "rf.fit(xtrain,ytrain)\n",
    "pred= rf.predict(xtest)\n",
    "print(accuracy_score(ytest, pred))\n",
    "print(f1_score(ytest,pred))"
   ]
  },
  {
   "cell_type": "markdown",
   "metadata": {},
   "source": [
    "#### XG Boost"
   ]
  },
  {
   "cell_type": "code",
   "execution_count": 21,
   "metadata": {},
   "outputs": [
    {
     "name": "stdout",
     "output_type": "stream",
     "text": [
      "0.9257434774676154\n",
      "0.26401446654611205\n"
     ]
    }
   ],
   "source": [
    "xg= XGBClassifier()\n",
    "xg.fit(xtrain,ytrain)\n",
    "pred1= rf.predict(xtest)\n",
    "print(accuracy_score(ytest, pred1))\n",
    "print(f1_score(ytest,pred1))"
   ]
  },
  {
   "cell_type": "markdown",
   "metadata": {},
   "source": [
    "#### Neural Networks"
   ]
  },
  {
   "cell_type": "code",
   "execution_count": 22,
   "metadata": {},
   "outputs": [],
   "source": [
    "model = Sequential()\n",
    "model.add(Dense(15, input_dim=12, activation='relu'))\n",
    "model.add(Dense(12, activation='relu'))\n",
    "model.add(Dense(1, activation='sigmoid'))"
   ]
  },
  {
   "cell_type": "code",
   "execution_count": 23,
   "metadata": {},
   "outputs": [],
   "source": [
    "# compile the keras model\n",
    "model.compile(loss='binary_crossentropy', optimizer='adam', metrics=['accuracy'])"
   ]
  },
  {
   "cell_type": "code",
   "execution_count": 24,
   "metadata": {},
   "outputs": [
    {
     "name": "stdout",
     "output_type": "stream",
     "text": [
      "Epoch 1/180\n",
      "43846/43846 [==============================] - 5s 111us/step - loss: 0.2866 - accuracy: 0.9143\n",
      "Epoch 2/180\n",
      "43846/43846 [==============================] - 5s 110us/step - loss: 0.2620 - accuracy: 0.9154\n",
      "Epoch 3/180\n",
      "43846/43846 [==============================] - 5s 109us/step - loss: 0.2545 - accuracy: 0.9158\n",
      "Epoch 4/180\n",
      "43846/43846 [==============================] - 5s 109us/step - loss: 0.2504 - accuracy: 0.9158\n",
      "Epoch 5/180\n",
      "43846/43846 [==============================] - 5s 107us/step - loss: 0.2475 - accuracy: 0.9167\n",
      "Epoch 6/180\n",
      "43846/43846 [==============================] - 5s 108us/step - loss: 0.2453 - accuracy: 0.9167\n",
      "Epoch 7/180\n",
      "43846/43846 [==============================] - 5s 108us/step - loss: 0.2439 - accuracy: 0.9176\n",
      "Epoch 8/180\n",
      "43846/43846 [==============================] - 5s 107us/step - loss: 0.2426 - accuracy: 0.9177\n",
      "Epoch 9/180\n",
      "43846/43846 [==============================] - 5s 108us/step - loss: 0.2405 - accuracy: 0.9181\n",
      "Epoch 10/180\n",
      "43846/43846 [==============================] - 5s 107us/step - loss: 0.2400 - accuracy: 0.9185\n",
      "Epoch 11/180\n",
      "43846/43846 [==============================] - 5s 112us/step - loss: 0.2380 - accuracy: 0.9192\n",
      "Epoch 12/180\n",
      "43846/43846 [==============================] - 5s 107us/step - loss: 0.2370 - accuracy: 0.9186\n",
      "Epoch 13/180\n",
      "43846/43846 [==============================] - 5s 108us/step - loss: 0.2341 - accuracy: 0.9200\n",
      "Epoch 14/180\n",
      "43846/43846 [==============================] - 5s 108us/step - loss: 0.2323 - accuracy: 0.9208\n",
      "Epoch 15/180\n",
      "43846/43846 [==============================] - 5s 108us/step - loss: 0.2305 - accuracy: 0.9221\n",
      "Epoch 16/180\n",
      "43846/43846 [==============================] - 5s 108us/step - loss: 0.2294 - accuracy: 0.9221\n",
      "Epoch 17/180\n",
      "43846/43846 [==============================] - 5s 109us/step - loss: 0.2278 - accuracy: 0.9224\n",
      "Epoch 18/180\n",
      "43846/43846 [==============================] - 5s 110us/step - loss: 0.2264 - accuracy: 0.9230\n",
      "Epoch 19/180\n",
      "43846/43846 [==============================] - 5s 109us/step - loss: 0.2252 - accuracy: 0.9238\n",
      "Epoch 20/180\n",
      "43846/43846 [==============================] - 5s 109us/step - loss: 0.2242 - accuracy: 0.9237\n",
      "Epoch 21/180\n",
      "43846/43846 [==============================] - 5s 109us/step - loss: 0.2237 - accuracy: 0.9238\n",
      "Epoch 22/180\n",
      "43846/43846 [==============================] - 5s 108us/step - loss: 0.2215 - accuracy: 0.9248\n",
      "Epoch 23/180\n",
      "43846/43846 [==============================] - 5s 109us/step - loss: 0.2205 - accuracy: 0.9246\n",
      "Epoch 24/180\n",
      "43846/43846 [==============================] - 5s 109us/step - loss: 0.2185 - accuracy: 0.9249\n",
      "Epoch 25/180\n",
      "43846/43846 [==============================] - 5s 109us/step - loss: 0.2171 - accuracy: 0.9244\n",
      "Epoch 26/180\n",
      "43846/43846 [==============================] - 5s 109us/step - loss: 0.2164 - accuracy: 0.9253\n",
      "Epoch 27/180\n",
      "43846/43846 [==============================] - 5s 109us/step - loss: 0.2149 - accuracy: 0.9253\n",
      "Epoch 28/180\n",
      "43846/43846 [==============================] - 5s 108us/step - loss: 0.2134 - accuracy: 0.9255\n",
      "Epoch 29/180\n",
      "43846/43846 [==============================] - 5s 109us/step - loss: 0.2111 - accuracy: 0.9259\n",
      "Epoch 30/180\n",
      "43846/43846 [==============================] - 5s 109us/step - loss: 0.2085 - accuracy: 0.9264\n",
      "Epoch 31/180\n",
      "43846/43846 [==============================] - 5s 113us/step - loss: 0.2071 - accuracy: 0.9267\n",
      "Epoch 32/180\n",
      "43846/43846 [==============================] - 6s 137us/step - loss: 0.2053 - accuracy: 0.9271\n",
      "Epoch 33/180\n",
      "43846/43846 [==============================] - 6s 129us/step - loss: 0.2033 - accuracy: 0.9274\n",
      "Epoch 34/180\n",
      "43846/43846 [==============================] - 5s 113us/step - loss: 0.2017 - accuracy: 0.9279\n",
      "Epoch 35/180\n",
      "43846/43846 [==============================] - 5s 119us/step - loss: 0.1995 - accuracy: 0.9287\n",
      "Epoch 36/180\n",
      "43846/43846 [==============================] - 5s 111us/step - loss: 0.1993 - accuracy: 0.9287\n",
      "Epoch 37/180\n",
      "43846/43846 [==============================] - 5s 111us/step - loss: 0.1973 - accuracy: 0.9295\n",
      "Epoch 38/180\n",
      "43846/43846 [==============================] - 5s 111us/step - loss: 0.1966 - accuracy: 0.9301\n",
      "Epoch 39/180\n",
      "43846/43846 [==============================] - 5s 111us/step - loss: 0.1970 - accuracy: 0.9306\n",
      "Epoch 40/180\n",
      "43846/43846 [==============================] - 5s 111us/step - loss: 0.1954 - accuracy: 0.9310\n",
      "Epoch 41/180\n",
      "43846/43846 [==============================] - 5s 112us/step - loss: 0.1938 - accuracy: 0.9306\n",
      "Epoch 42/180\n",
      "43846/43846 [==============================] - 5s 112us/step - loss: 0.1938 - accuracy: 0.9311\n",
      "Epoch 43/180\n",
      "43846/43846 [==============================] - 5s 112us/step - loss: 0.1933 - accuracy: 0.9319\n",
      "Epoch 44/180\n",
      "43846/43846 [==============================] - 5s 111us/step - loss: 0.1924 - accuracy: 0.9318\n",
      "Epoch 45/180\n",
      "43846/43846 [==============================] - 5s 113us/step - loss: 0.1923 - accuracy: 0.9318\n",
      "Epoch 46/180\n",
      "43846/43846 [==============================] - 5s 112us/step - loss: 0.1931 - accuracy: 0.9316\n",
      "Epoch 47/180\n",
      "43846/43846 [==============================] - 5s 110us/step - loss: 0.1931 - accuracy: 0.9322\n",
      "Epoch 48/180\n",
      "43846/43846 [==============================] - 5s 116us/step - loss: 0.1921 - accuracy: 0.9323\n",
      "Epoch 49/180\n",
      "43846/43846 [==============================] - 5s 110us/step - loss: 0.1914 - accuracy: 0.9325\n",
      "Epoch 50/180\n",
      "43846/43846 [==============================] - 5s 112us/step - loss: 0.1924 - accuracy: 0.9317\n",
      "Epoch 51/180\n",
      "43846/43846 [==============================] - 5s 110us/step - loss: 0.1923 - accuracy: 0.9319\n",
      "Epoch 52/180\n",
      "43846/43846 [==============================] - 5s 110us/step - loss: 0.1904 - accuracy: 0.9320\n",
      "Epoch 53/180\n",
      "43846/43846 [==============================] - 5s 108us/step - loss: 0.1906 - accuracy: 0.9326\n",
      "Epoch 54/180\n",
      "43846/43846 [==============================] - 5s 108us/step - loss: 0.1910 - accuracy: 0.9325\n",
      "Epoch 55/180\n",
      "43846/43846 [==============================] - 5s 108us/step - loss: 0.1899 - accuracy: 0.9330\n",
      "Epoch 56/180\n",
      "43846/43846 [==============================] - 5s 108us/step - loss: 0.1902 - accuracy: 0.9325\n",
      "Epoch 57/180\n",
      "43846/43846 [==============================] - 5s 108us/step - loss: 0.1905 - accuracy: 0.9329\n",
      "Epoch 58/180\n",
      "43846/43846 [==============================] - 5s 108us/step - loss: 0.1888 - accuracy: 0.9334\n",
      "Epoch 59/180\n",
      "43846/43846 [==============================] - 5s 107us/step - loss: 0.1896 - accuracy: 0.9328\n",
      "Epoch 60/180\n",
      "43846/43846 [==============================] - 5s 108us/step - loss: 0.1895 - accuracy: 0.9329\n",
      "Epoch 61/180\n",
      "43846/43846 [==============================] - 5s 108us/step - loss: 0.1896 - accuracy: 0.9329\n",
      "Epoch 62/180\n",
      "43846/43846 [==============================] - 5s 108us/step - loss: 0.1902 - accuracy: 0.9331\n",
      "Epoch 63/180\n",
      "43846/43846 [==============================] - 5s 109us/step - loss: 0.1893 - accuracy: 0.9324\n",
      "Epoch 64/180\n",
      "43846/43846 [==============================] - 5s 114us/step - loss: 0.1896 - accuracy: 0.9330\n",
      "Epoch 65/180\n",
      "43846/43846 [==============================] - 5s 109us/step - loss: 0.1889 - accuracy: 0.9329\n",
      "Epoch 66/180\n",
      "43846/43846 [==============================] - 5s 110us/step - loss: 0.1894 - accuracy: 0.9333\n",
      "Epoch 67/180\n",
      "43846/43846 [==============================] - 5s 107us/step - loss: 0.1883 - accuracy: 0.9331\n",
      "Epoch 68/180\n",
      "43846/43846 [==============================] - 5s 109us/step - loss: 0.1885 - accuracy: 0.9328\n",
      "Epoch 69/180\n",
      "43846/43846 [==============================] - 5s 108us/step - loss: 0.1886 - accuracy: 0.9337\n",
      "Epoch 70/180\n",
      "43846/43846 [==============================] - 5s 108us/step - loss: 0.1890 - accuracy: 0.9332\n",
      "Epoch 71/180\n",
      "43846/43846 [==============================] - 5s 108us/step - loss: 0.1883 - accuracy: 0.9334\n",
      "Epoch 72/180\n",
      "43846/43846 [==============================] - 5s 107us/step - loss: 0.1883 - accuracy: 0.9335\n",
      "Epoch 73/180\n",
      "43846/43846 [==============================] - 5s 112us/step - loss: 0.1885 - accuracy: 0.9336\n",
      "Epoch 74/180\n",
      "43846/43846 [==============================] - 5s 110us/step - loss: 0.1880 - accuracy: 0.9332\n",
      "Epoch 75/180\n",
      "43846/43846 [==============================] - 5s 110us/step - loss: 0.1875 - accuracy: 0.9337\n",
      "Epoch 76/180\n"
     ]
    },
    {
     "name": "stdout",
     "output_type": "stream",
     "text": [
      "43846/43846 [==============================] - 5s 111us/step - loss: 0.1887 - accuracy: 0.9334\n",
      "Epoch 77/180\n",
      "43846/43846 [==============================] - 5s 110us/step - loss: 0.1881 - accuracy: 0.9332\n",
      "Epoch 78/180\n",
      "43846/43846 [==============================] - 5s 107us/step - loss: 0.1871 - accuracy: 0.9338\n",
      "Epoch 79/180\n",
      "43846/43846 [==============================] - 5s 106us/step - loss: 0.1879 - accuracy: 0.9337\n",
      "Epoch 80/180\n",
      "43846/43846 [==============================] - 5s 106us/step - loss: 0.1874 - accuracy: 0.9336\n",
      "Epoch 81/180\n",
      "43846/43846 [==============================] - 5s 106us/step - loss: 0.1874 - accuracy: 0.9337\n",
      "Epoch 82/180\n",
      "43846/43846 [==============================] - 5s 106us/step - loss: 0.1871 - accuracy: 0.9332\n",
      "Epoch 83/180\n",
      "43846/43846 [==============================] - 5s 106us/step - loss: 0.1864 - accuracy: 0.9338\n",
      "Epoch 84/180\n",
      "43846/43846 [==============================] - 5s 106us/step - loss: 0.1867 - accuracy: 0.9338\n",
      "Epoch 85/180\n",
      "43846/43846 [==============================] - 5s 107us/step - loss: 0.1872 - accuracy: 0.9335\n",
      "Epoch 86/180\n",
      "43846/43846 [==============================] - 5s 107us/step - loss: 0.1863 - accuracy: 0.9342\n",
      "Epoch 87/180\n",
      "43846/43846 [==============================] - 5s 107us/step - loss: 0.1866 - accuracy: 0.9337\n",
      "Epoch 88/180\n",
      "43846/43846 [==============================] - 5s 106us/step - loss: 0.1859 - accuracy: 0.9340\n",
      "Epoch 89/180\n",
      "43846/43846 [==============================] - 5s 106us/step - loss: 0.1867 - accuracy: 0.9341\n",
      "Epoch 90/180\n",
      "43846/43846 [==============================] - 5s 106us/step - loss: 0.1862 - accuracy: 0.9340\n",
      "Epoch 91/180\n",
      "43846/43846 [==============================] - 5s 106us/step - loss: 0.1861 - accuracy: 0.9341\n",
      "Epoch 92/180\n",
      "43846/43846 [==============================] - 5s 106us/step - loss: 0.1862 - accuracy: 0.9341\n",
      "Epoch 93/180\n",
      "43846/43846 [==============================] - 5s 113us/step - loss: 0.1865 - accuracy: 0.9342\n",
      "Epoch 94/180\n",
      "43846/43846 [==============================] - 5s 120us/step - loss: 0.1858 - accuracy: 0.9341\n",
      "Epoch 95/180\n",
      "43846/43846 [==============================] - 5s 107us/step - loss: 0.1874 - accuracy: 0.9335\n",
      "Epoch 96/180\n",
      "43846/43846 [==============================] - 5s 107us/step - loss: 0.1858 - accuracy: 0.9341\n",
      "Epoch 97/180\n",
      "43846/43846 [==============================] - 5s 108us/step - loss: 0.1858 - accuracy: 0.9345\n",
      "Epoch 98/180\n",
      "43846/43846 [==============================] - 5s 107us/step - loss: 0.1860 - accuracy: 0.9337\n",
      "Epoch 99/180\n",
      "43846/43846 [==============================] - 5s 107us/step - loss: 0.1850 - accuracy: 0.9345\n",
      "Epoch 100/180\n",
      "43846/43846 [==============================] - 5s 107us/step - loss: 0.1852 - accuracy: 0.9347\n",
      "Epoch 101/180\n",
      "43846/43846 [==============================] - 5s 108us/step - loss: 0.1858 - accuracy: 0.9345\n",
      "Epoch 102/180\n",
      "43846/43846 [==============================] - 5s 107us/step - loss: 0.1864 - accuracy: 0.9343\n",
      "Epoch 103/180\n",
      "43846/43846 [==============================] - 5s 107us/step - loss: 0.1851 - accuracy: 0.9347\n",
      "Epoch 104/180\n",
      "43846/43846 [==============================] - 5s 107us/step - loss: 0.1845 - accuracy: 0.9350\n",
      "Epoch 105/180\n",
      "43846/43846 [==============================] - 5s 107us/step - loss: 0.1857 - accuracy: 0.9345\n",
      "Epoch 106/180\n",
      "43846/43846 [==============================] - 5s 108us/step - loss: 0.1846 - accuracy: 0.9346\n",
      "Epoch 107/180\n",
      "43846/43846 [==============================] - 5s 108us/step - loss: 0.1850 - accuracy: 0.9349\n",
      "Epoch 108/180\n",
      "43846/43846 [==============================] - 5s 107us/step - loss: 0.1850 - accuracy: 0.9348\n",
      "Epoch 109/180\n",
      "43846/43846 [==============================] - 5s 107us/step - loss: 0.1852 - accuracy: 0.9350\n",
      "Epoch 110/180\n",
      "43846/43846 [==============================] - 5s 107us/step - loss: 0.1845 - accuracy: 0.9347\n",
      "Epoch 111/180\n",
      "43846/43846 [==============================] - 5s 108us/step - loss: 0.1843 - accuracy: 0.9352\n",
      "Epoch 112/180\n",
      "43846/43846 [==============================] - 5s 108us/step - loss: 0.1835 - accuracy: 0.9351\n",
      "Epoch 113/180\n",
      "43846/43846 [==============================] - 5s 108us/step - loss: 0.1835 - accuracy: 0.9352\n",
      "Epoch 114/180\n",
      "43846/43846 [==============================] - 5s 106us/step - loss: 0.1845 - accuracy: 0.9349\n",
      "Epoch 115/180\n",
      "43846/43846 [==============================] - 5s 107us/step - loss: 0.1833 - accuracy: 0.9353\n",
      "Epoch 116/180\n",
      "43846/43846 [==============================] - 5s 107us/step - loss: 0.1829 - accuracy: 0.9351\n",
      "Epoch 117/180\n",
      "43846/43846 [==============================] - 5s 107us/step - loss: 0.1840 - accuracy: 0.9353\n",
      "Epoch 118/180\n",
      "43846/43846 [==============================] - 5s 108us/step - loss: 0.1832 - accuracy: 0.9353\n",
      "Epoch 119/180\n",
      "43846/43846 [==============================] - 5s 109us/step - loss: 0.1833 - accuracy: 0.9350\n",
      "Epoch 120/180\n",
      "43846/43846 [==============================] - 5s 107us/step - loss: 0.1832 - accuracy: 0.9352\n",
      "Epoch 121/180\n",
      "43846/43846 [==============================] - 5s 107us/step - loss: 0.1850 - accuracy: 0.9345\n",
      "Epoch 122/180\n",
      "43846/43846 [==============================] - 5s 106us/step - loss: 0.1826 - accuracy: 0.9357\n",
      "Epoch 123/180\n",
      "43846/43846 [==============================] - 5s 107us/step - loss: 0.1833 - accuracy: 0.9357\n",
      "Epoch 124/180\n",
      "43846/43846 [==============================] - 5s 106us/step - loss: 0.1833 - accuracy: 0.9351\n",
      "Epoch 125/180\n",
      "43846/43846 [==============================] - 5s 107us/step - loss: 0.1833 - accuracy: 0.9355\n",
      "Epoch 126/180\n",
      "43846/43846 [==============================] - 5s 107us/step - loss: 0.1825 - accuracy: 0.9354\n",
      "Epoch 127/180\n",
      "43846/43846 [==============================] - 5s 107us/step - loss: 0.1828 - accuracy: 0.9353\n",
      "Epoch 128/180\n",
      "43846/43846 [==============================] - 5s 108us/step - loss: 0.1827 - accuracy: 0.9354\n",
      "Epoch 129/180\n",
      "43846/43846 [==============================] - 5s 115us/step - loss: 0.1843 - accuracy: 0.9353\n",
      "Epoch 130/180\n",
      "43846/43846 [==============================] - 5s 107us/step - loss: 0.1830 - accuracy: 0.9352\n",
      "Epoch 131/180\n",
      "43846/43846 [==============================] - 5s 107us/step - loss: 0.1832 - accuracy: 0.9359\n",
      "Epoch 132/180\n",
      "43846/43846 [==============================] - 5s 108us/step - loss: 0.1826 - accuracy: 0.9356\n",
      "Epoch 133/180\n",
      "43846/43846 [==============================] - 5s 107us/step - loss: 0.1830 - accuracy: 0.9353\n",
      "Epoch 134/180\n",
      "43846/43846 [==============================] - 5s 108us/step - loss: 0.1833 - accuracy: 0.9349\n",
      "Epoch 135/180\n",
      "43846/43846 [==============================] - 5s 117us/step - loss: 0.1816 - accuracy: 0.9359\n",
      "Epoch 136/180\n",
      "43846/43846 [==============================] - 5s 107us/step - loss: 0.1826 - accuracy: 0.9353\n",
      "Epoch 137/180\n",
      "43846/43846 [==============================] - 5s 108us/step - loss: 0.1820 - accuracy: 0.9353\n",
      "Epoch 138/180\n",
      "43846/43846 [==============================] - 5s 109us/step - loss: 0.1819 - accuracy: 0.9355\n",
      "Epoch 139/180\n",
      "43846/43846 [==============================] - 5s 108us/step - loss: 0.1817 - accuracy: 0.9352\n",
      "Epoch 140/180\n",
      "43846/43846 [==============================] - 5s 107us/step - loss: 0.1823 - accuracy: 0.9350\n",
      "Epoch 141/180\n",
      "43846/43846 [==============================] - 5s 108us/step - loss: 0.1827 - accuracy: 0.9355\n",
      "Epoch 142/180\n",
      "43846/43846 [==============================] - 5s 107us/step - loss: 0.1821 - accuracy: 0.9352\n",
      "Epoch 143/180\n",
      "43846/43846 [==============================] - 5s 108us/step - loss: 0.1817 - accuracy: 0.9355\n",
      "Epoch 144/180\n",
      "43846/43846 [==============================] - 5s 108us/step - loss: 0.1821 - accuracy: 0.9349\n",
      "Epoch 145/180\n",
      "43846/43846 [==============================] - 5s 107us/step - loss: 0.1809 - accuracy: 0.9359\n",
      "Epoch 146/180\n",
      "43846/43846 [==============================] - 5s 107us/step - loss: 0.1815 - accuracy: 0.9354\n",
      "Epoch 147/180\n",
      "43846/43846 [==============================] - 5s 109us/step - loss: 0.1824 - accuracy: 0.9358\n",
      "Epoch 148/180\n",
      "43846/43846 [==============================] - 5s 108us/step - loss: 0.1812 - accuracy: 0.9359\n",
      "Epoch 149/180\n",
      "43846/43846 [==============================] - 5s 107us/step - loss: 0.1819 - accuracy: 0.9360\n",
      "Epoch 150/180\n",
      "43846/43846 [==============================] - 5s 109us/step - loss: 0.1829 - accuracy: 0.9360\n",
      "Epoch 151/180\n"
     ]
    },
    {
     "name": "stdout",
     "output_type": "stream",
     "text": [
      "43846/43846 [==============================] - 5s 106us/step - loss: 0.1825 - accuracy: 0.9361\n",
      "Epoch 152/180\n",
      "43846/43846 [==============================] - 5s 105us/step - loss: 0.1815 - accuracy: 0.9358\n",
      "Epoch 153/180\n",
      "43846/43846 [==============================] - 5s 105us/step - loss: 0.1817 - accuracy: 0.9359\n",
      "Epoch 154/180\n",
      "43846/43846 [==============================] - 5s 106us/step - loss: 0.1813 - accuracy: 0.9360\n",
      "Epoch 155/180\n",
      "43846/43846 [==============================] - 5s 105us/step - loss: 0.1830 - accuracy: 0.9356\n",
      "Epoch 156/180\n",
      "43846/43846 [==============================] - 5s 109us/step - loss: 0.1812 - accuracy: 0.9357\n",
      "Epoch 157/180\n",
      "43846/43846 [==============================] - 5s 109us/step - loss: 0.1807 - accuracy: 0.9360\n",
      "Epoch 158/180\n",
      "43846/43846 [==============================] - 5s 107us/step - loss: 0.1816 - accuracy: 0.9359\n",
      "Epoch 159/180\n",
      "43846/43846 [==============================] - 5s 108us/step - loss: 0.1811 - accuracy: 0.9358\n",
      "Epoch 160/180\n",
      "43846/43846 [==============================] - 5s 109us/step - loss: 0.1819 - accuracy: 0.9355\n",
      "Epoch 161/180\n",
      "43846/43846 [==============================] - 5s 107us/step - loss: 0.1875 - accuracy: 0.9353\n",
      "Epoch 162/180\n",
      "43846/43846 [==============================] - 5s 106us/step - loss: 0.1803 - accuracy: 0.9361\n",
      "Epoch 163/180\n",
      "43846/43846 [==============================] - 5s 105us/step - loss: 0.1820 - accuracy: 0.9355\n",
      "Epoch 164/180\n",
      "43846/43846 [==============================] - 5s 105us/step - loss: 0.1813 - accuracy: 0.9359\n",
      "Epoch 165/180\n",
      "43846/43846 [==============================] - 5s 105us/step - loss: 0.1814 - accuracy: 0.9359\n",
      "Epoch 166/180\n",
      "43846/43846 [==============================] - 5s 106us/step - loss: 0.1810 - accuracy: 0.9358\n",
      "Epoch 167/180\n",
      "43846/43846 [==============================] - 5s 105us/step - loss: 0.1824 - accuracy: 0.9358\n",
      "Epoch 168/180\n",
      "43846/43846 [==============================] - 5s 106us/step - loss: 0.1809 - accuracy: 0.9358\n",
      "Epoch 169/180\n",
      "43846/43846 [==============================] - 5s 108us/step - loss: 0.1816 - accuracy: 0.9360\n",
      "Epoch 170/180\n",
      "43846/43846 [==============================] - 5s 106us/step - loss: 0.1805 - accuracy: 0.9364\n",
      "Epoch 171/180\n",
      "43846/43846 [==============================] - 5s 105us/step - loss: 0.1810 - accuracy: 0.9363\n",
      "Epoch 172/180\n",
      "43846/43846 [==============================] - 5s 106us/step - loss: 0.1809 - accuracy: 0.9357\n",
      "Epoch 173/180\n",
      "43846/43846 [==============================] - 5s 105us/step - loss: 0.1809 - accuracy: 0.9362\n",
      "Epoch 174/180\n",
      "43846/43846 [==============================] - 5s 106us/step - loss: 0.1805 - accuracy: 0.9358\n",
      "Epoch 175/180\n",
      "43846/43846 [==============================] - 5s 104us/step - loss: 0.1812 - accuracy: 0.9359\n",
      "Epoch 176/180\n",
      "43846/43846 [==============================] - 5s 105us/step - loss: 0.1804 - accuracy: 0.9362\n",
      "Epoch 177/180\n",
      "43846/43846 [==============================] - 5s 106us/step - loss: 0.1807 - accuracy: 0.9359\n",
      "Epoch 178/180\n",
      "43846/43846 [==============================] - 5s 105us/step - loss: 0.1821 - accuracy: 0.9360\n",
      "Epoch 179/180\n",
      "43846/43846 [==============================] - 5s 104us/step - loss: 0.1803 - accuracy: 0.9362\n",
      "Epoch 180/180\n",
      "43846/43846 [==============================] - 5s 106us/step - loss: 0.1805 - accuracy: 0.9363\n"
     ]
    },
    {
     "data": {
      "text/plain": [
       "<keras.callbacks.callbacks.History at 0x1d1726bbe48>"
      ]
     },
     "execution_count": 24,
     "metadata": {},
     "output_type": "execute_result"
    }
   ],
   "source": [
    "# fit the keras model on the dataset\n",
    "model.fit(xtrain, ytrain, epochs=180, batch_size=10)"
   ]
  },
  {
   "cell_type": "code",
   "execution_count": 25,
   "metadata": {},
   "outputs": [
    {
     "name": "stdout",
     "output_type": "stream",
     "text": [
      "10962/10962 [==============================] - 0s 19us/step\n",
      "Accuracy: 93.21\n"
     ]
    }
   ],
   "source": [
    "# evaluate the keras model\n",
    "pred3, accuracy = model.evaluate(xtest, ytest)\n",
    "print('Accuracy: %.2f' % (accuracy*100))"
   ]
  },
  {
   "cell_type": "markdown",
   "metadata": {},
   "source": [
    "#### Test Data "
   ]
  },
  {
   "cell_type": "code",
   "execution_count": 26,
   "metadata": {},
   "outputs": [],
   "source": [
    "df_test= pd.read_csv(\"C:/Users/91758/Downloads/test_2umaH9m.csv\")"
   ]
  },
  {
   "cell_type": "code",
   "execution_count": 27,
   "metadata": {},
   "outputs": [],
   "source": [
    "df_test['previous_year_rating'].fillna(0,inplace=True)"
   ]
  },
  {
   "cell_type": "code",
   "execution_count": 29,
   "metadata": {},
   "outputs": [],
   "source": [
    "df_test['education'].fillna(\"NAN\",inplace=True)"
   ]
  },
  {
   "cell_type": "code",
   "execution_count": 30,
   "metadata": {},
   "outputs": [],
   "source": [
    "lencode(l,df_test)"
   ]
  },
  {
   "cell_type": "code",
   "execution_count": 31,
   "metadata": {},
   "outputs": [
    {
     "data": {
      "text/html": [
       "<div>\n",
       "<style scoped>\n",
       "    .dataframe tbody tr th:only-of-type {\n",
       "        vertical-align: middle;\n",
       "    }\n",
       "\n",
       "    .dataframe tbody tr th {\n",
       "        vertical-align: top;\n",
       "    }\n",
       "\n",
       "    .dataframe thead th {\n",
       "        text-align: right;\n",
       "    }\n",
       "</style>\n",
       "<table border=\"1\" class=\"dataframe\">\n",
       "  <thead>\n",
       "    <tr style=\"text-align: right;\">\n",
       "      <th></th>\n",
       "      <th>employee_id</th>\n",
       "      <th>department</th>\n",
       "      <th>region</th>\n",
       "      <th>education</th>\n",
       "      <th>gender</th>\n",
       "      <th>recruitment_channel</th>\n",
       "      <th>no_of_trainings</th>\n",
       "      <th>age</th>\n",
       "      <th>previous_year_rating</th>\n",
       "      <th>length_of_service</th>\n",
       "      <th>KPIs_met &gt;80%</th>\n",
       "      <th>awards_won?</th>\n",
       "      <th>avg_training_score</th>\n",
       "    </tr>\n",
       "  </thead>\n",
       "  <tbody>\n",
       "    <tr>\n",
       "      <th>0</th>\n",
       "      <td>8724</td>\n",
       "      <td>8</td>\n",
       "      <td>18</td>\n",
       "      <td>0</td>\n",
       "      <td>1</td>\n",
       "      <td>2</td>\n",
       "      <td>1</td>\n",
       "      <td>24</td>\n",
       "      <td>0.0</td>\n",
       "      <td>1</td>\n",
       "      <td>1</td>\n",
       "      <td>0</td>\n",
       "      <td>77</td>\n",
       "    </tr>\n",
       "    <tr>\n",
       "      <th>1</th>\n",
       "      <td>74430</td>\n",
       "      <td>2</td>\n",
       "      <td>28</td>\n",
       "      <td>0</td>\n",
       "      <td>0</td>\n",
       "      <td>0</td>\n",
       "      <td>1</td>\n",
       "      <td>31</td>\n",
       "      <td>3.0</td>\n",
       "      <td>5</td>\n",
       "      <td>0</td>\n",
       "      <td>0</td>\n",
       "      <td>51</td>\n",
       "    </tr>\n",
       "    <tr>\n",
       "      <th>2</th>\n",
       "      <td>72255</td>\n",
       "      <td>7</td>\n",
       "      <td>4</td>\n",
       "      <td>0</td>\n",
       "      <td>1</td>\n",
       "      <td>0</td>\n",
       "      <td>1</td>\n",
       "      <td>31</td>\n",
       "      <td>1.0</td>\n",
       "      <td>4</td>\n",
       "      <td>0</td>\n",
       "      <td>0</td>\n",
       "      <td>47</td>\n",
       "    </tr>\n",
       "    <tr>\n",
       "      <th>3</th>\n",
       "      <td>38562</td>\n",
       "      <td>5</td>\n",
       "      <td>11</td>\n",
       "      <td>0</td>\n",
       "      <td>0</td>\n",
       "      <td>0</td>\n",
       "      <td>3</td>\n",
       "      <td>31</td>\n",
       "      <td>2.0</td>\n",
       "      <td>9</td>\n",
       "      <td>0</td>\n",
       "      <td>0</td>\n",
       "      <td>65</td>\n",
       "    </tr>\n",
       "    <tr>\n",
       "      <th>4</th>\n",
       "      <td>64486</td>\n",
       "      <td>1</td>\n",
       "      <td>21</td>\n",
       "      <td>0</td>\n",
       "      <td>1</td>\n",
       "      <td>2</td>\n",
       "      <td>1</td>\n",
       "      <td>30</td>\n",
       "      <td>4.0</td>\n",
       "      <td>7</td>\n",
       "      <td>0</td>\n",
       "      <td>0</td>\n",
       "      <td>61</td>\n",
       "    </tr>\n",
       "  </tbody>\n",
       "</table>\n",
       "</div>"
      ],
      "text/plain": [
       "   employee_id  department  region  education  gender  recruitment_channel  \\\n",
       "0         8724           8      18          0       1                    2   \n",
       "1        74430           2      28          0       0                    0   \n",
       "2        72255           7       4          0       1                    0   \n",
       "3        38562           5      11          0       0                    0   \n",
       "4        64486           1      21          0       1                    2   \n",
       "\n",
       "   no_of_trainings  age  previous_year_rating  length_of_service  \\\n",
       "0                1   24                   0.0                  1   \n",
       "1                1   31                   3.0                  5   \n",
       "2                1   31                   1.0                  4   \n",
       "3                3   31                   2.0                  9   \n",
       "4                1   30                   4.0                  7   \n",
       "\n",
       "   KPIs_met >80%  awards_won?  avg_training_score  \n",
       "0              1            0                  77  \n",
       "1              0            0                  51  \n",
       "2              0            0                  47  \n",
       "3              0            0                  65  \n",
       "4              0            0                  61  "
      ]
     },
     "execution_count": 31,
     "metadata": {},
     "output_type": "execute_result"
    }
   ],
   "source": [
    "df_test.head()"
   ]
  },
  {
   "cell_type": "code",
   "execution_count": 36,
   "metadata": {},
   "outputs": [],
   "source": [
    "x_test= df_test.drop('employee_id', axis=1)"
   ]
  },
  {
   "cell_type": "code",
   "execution_count": 37,
   "metadata": {},
   "outputs": [
    {
     "data": {
      "text/plain": [
       "(23490, 12)"
      ]
     },
     "execution_count": 37,
     "metadata": {},
     "output_type": "execute_result"
    }
   ],
   "source": [
    "x_test.shape"
   ]
  },
  {
   "cell_type": "code",
   "execution_count": 39,
   "metadata": {},
   "outputs": [],
   "source": [
    "pred4= model.predict(x_test)"
   ]
  },
  {
   "cell_type": "code",
   "execution_count": 41,
   "metadata": {},
   "outputs": [
    {
     "data": {
      "text/plain": [
       "array([[1.6535220e-01],\n",
       "       [3.4630299e-05],\n",
       "       [0.0000000e+00],\n",
       "       ...,\n",
       "       [6.4760447e-05],\n",
       "       [1.0811697e-04],\n",
       "       [3.4052745e-01]], dtype=float32)"
      ]
     },
     "execution_count": 41,
     "metadata": {},
     "output_type": "execute_result"
    }
   ],
   "source": [
    "pred4"
   ]
  },
  {
   "cell_type": "code",
   "execution_count": 40,
   "metadata": {},
   "outputs": [
    {
     "ename": "Exception",
     "evalue": "Data must be 1-dimensional",
     "output_type": "error",
     "traceback": [
      "\u001b[1;31m---------------------------------------------------------------------------\u001b[0m",
      "\u001b[1;31mException\u001b[0m                                 Traceback (most recent call last)",
      "\u001b[1;32m<ipython-input-40-b2ffa55441d5>\u001b[0m in \u001b[0;36m<module>\u001b[1;34m\u001b[0m\n\u001b[1;32m----> 1\u001b[1;33m \u001b[0mp\u001b[0m\u001b[1;33m=\u001b[0m \u001b[0mpd\u001b[0m\u001b[1;33m.\u001b[0m\u001b[0mSeries\u001b[0m\u001b[1;33m(\u001b[0m\u001b[0mpred4\u001b[0m\u001b[1;33m)\u001b[0m\u001b[1;33m\u001b[0m\u001b[1;33m\u001b[0m\u001b[0m\n\u001b[0m",
      "\u001b[1;32m~\\AppData\\Local\\Continuum\\anaconda3\\lib\\site-packages\\pandas\\core\\series.py\u001b[0m in \u001b[0;36m__init__\u001b[1;34m(self, data, index, dtype, name, copy, fastpath)\u001b[0m\n\u001b[0;32m    260\u001b[0m             \u001b[1;32melse\u001b[0m\u001b[1;33m:\u001b[0m\u001b[1;33m\u001b[0m\u001b[1;33m\u001b[0m\u001b[0m\n\u001b[0;32m    261\u001b[0m                 data = sanitize_array(data, index, dtype, copy,\n\u001b[1;32m--> 262\u001b[1;33m                                       raise_cast_failure=True)\n\u001b[0m\u001b[0;32m    263\u001b[0m \u001b[1;33m\u001b[0m\u001b[0m\n\u001b[0;32m    264\u001b[0m                 \u001b[0mdata\u001b[0m \u001b[1;33m=\u001b[0m \u001b[0mSingleBlockManager\u001b[0m\u001b[1;33m(\u001b[0m\u001b[0mdata\u001b[0m\u001b[1;33m,\u001b[0m \u001b[0mindex\u001b[0m\u001b[1;33m,\u001b[0m \u001b[0mfastpath\u001b[0m\u001b[1;33m=\u001b[0m\u001b[1;32mTrue\u001b[0m\u001b[1;33m)\u001b[0m\u001b[1;33m\u001b[0m\u001b[1;33m\u001b[0m\u001b[0m\n",
      "\u001b[1;32m~\\AppData\\Local\\Continuum\\anaconda3\\lib\\site-packages\\pandas\\core\\internals\\construction.py\u001b[0m in \u001b[0;36msanitize_array\u001b[1;34m(data, index, dtype, copy, raise_cast_failure)\u001b[0m\n\u001b[0;32m    656\u001b[0m     \u001b[1;32melif\u001b[0m \u001b[0msubarr\u001b[0m\u001b[1;33m.\u001b[0m\u001b[0mndim\u001b[0m \u001b[1;33m>\u001b[0m \u001b[1;36m1\u001b[0m\u001b[1;33m:\u001b[0m\u001b[1;33m\u001b[0m\u001b[1;33m\u001b[0m\u001b[0m\n\u001b[0;32m    657\u001b[0m         \u001b[1;32mif\u001b[0m \u001b[0misinstance\u001b[0m\u001b[1;33m(\u001b[0m\u001b[0mdata\u001b[0m\u001b[1;33m,\u001b[0m \u001b[0mnp\u001b[0m\u001b[1;33m.\u001b[0m\u001b[0mndarray\u001b[0m\u001b[1;33m)\u001b[0m\u001b[1;33m:\u001b[0m\u001b[1;33m\u001b[0m\u001b[1;33m\u001b[0m\u001b[0m\n\u001b[1;32m--> 658\u001b[1;33m             \u001b[1;32mraise\u001b[0m \u001b[0mException\u001b[0m\u001b[1;33m(\u001b[0m\u001b[1;34m'Data must be 1-dimensional'\u001b[0m\u001b[1;33m)\u001b[0m\u001b[1;33m\u001b[0m\u001b[1;33m\u001b[0m\u001b[0m\n\u001b[0m\u001b[0;32m    659\u001b[0m         \u001b[1;32melse\u001b[0m\u001b[1;33m:\u001b[0m\u001b[1;33m\u001b[0m\u001b[1;33m\u001b[0m\u001b[0m\n\u001b[0;32m    660\u001b[0m             \u001b[0msubarr\u001b[0m \u001b[1;33m=\u001b[0m \u001b[0mcom\u001b[0m\u001b[1;33m.\u001b[0m\u001b[0masarray_tuplesafe\u001b[0m\u001b[1;33m(\u001b[0m\u001b[0mdata\u001b[0m\u001b[1;33m,\u001b[0m \u001b[0mdtype\u001b[0m\u001b[1;33m=\u001b[0m\u001b[0mdtype\u001b[0m\u001b[1;33m)\u001b[0m\u001b[1;33m\u001b[0m\u001b[1;33m\u001b[0m\u001b[0m\n",
      "\u001b[1;31mException\u001b[0m: Data must be 1-dimensional"
     ]
    }
   ],
   "source": [
    "p= pd.Series(pred4)"
   ]
  },
  {
   "cell_type": "code",
   "execution_count": null,
   "metadata": {},
   "outputs": [],
   "source": []
  }
 ],
 "metadata": {
  "kernelspec": {
   "display_name": "Python 3",
   "language": "python",
   "name": "python3"
  },
  "language_info": {
   "codemirror_mode": {
    "name": "ipython",
    "version": 3
   },
   "file_extension": ".py",
   "mimetype": "text/x-python",
   "name": "python",
   "nbconvert_exporter": "python",
   "pygments_lexer": "ipython3",
   "version": "3.7.3"
  }
 },
 "nbformat": 4,
 "nbformat_minor": 2
}
